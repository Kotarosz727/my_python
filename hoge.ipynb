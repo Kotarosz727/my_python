{
  "nbformat": 4,
  "nbformat_minor": 0,
  "metadata": {
    "colab": {
      "name": "hoge.ipynb",
      "provenance": [],
      "authorship_tag": "ABX9TyPGB2rk5zy8Ramn9UBDQtJe",
      "include_colab_link": true
    },
    "kernelspec": {
      "name": "python3",
      "display_name": "Python 3"
    },
    "language_info": {
      "name": "python"
    }
  },
  "cells": [
    {
      "cell_type": "markdown",
      "metadata": {
        "id": "view-in-github",
        "colab_type": "text"
      },
      "source": [
        "<a href=\"https://colab.research.google.com/github/Kotarosz727/my_python/blob/main/hoge.ipynb\" target=\"_parent\"><img src=\"https://colab.research.google.com/assets/colab-badge.svg\" alt=\"Open In Colab\"/></a>"
      ]
    },
    {
      "cell_type": "code",
      "execution_count": null,
      "metadata": {
        "colab": {
          "base_uri": "https://localhost:8080/"
        },
        "id": "9rEQliT0jm0P",
        "outputId": "a965df52-b016-4b8b-ee47-1e4e46f89274"
      },
      "outputs": [
        {
          "output_type": "stream",
          "name": "stdout",
          "text": [
            "[[1 2 3]\n",
            " [1 2 5]\n",
            " [1 3 4]\n",
            " [1 5 9]]\n",
            "[[1]\n",
            " [5]\n",
            " [6]\n",
            " [8]]\n"
          ]
        }
      ],
      "source": [
        "import numpy as np\n",
        "\n",
        "X = np.array([\n",
        "      [1,2,3],\n",
        "      [1,2,5],\n",
        "      [1,3,4],\n",
        "      [1,5,9]\n",
        "     ])\n",
        "print(X)\n",
        "\n",
        "y = np.array([\n",
        "              [1],\n",
        "              [5],\n",
        "              [6],\n",
        "              [8]\n",
        "])\n",
        "print(y)"
      ]
    },
    {
      "cell_type": "code",
      "source": [
        "XT = X.T"
      ],
      "metadata": {
        "id": "NaiSJlHmkJWZ"
      },
      "execution_count": null,
      "outputs": []
    },
    {
      "cell_type": "code",
      "source": [
        "XtX = np.dot(XT, X)\n",
        "XtX"
      ],
      "metadata": {
        "colab": {
          "base_uri": "https://localhost:8080/"
        },
        "id": "6Lm_tC5OkRvn",
        "outputId": "cce883e4-727d-4fad-ce28-6519fe372d2a"
      },
      "execution_count": null,
      "outputs": [
        {
          "output_type": "execute_result",
          "data": {
            "text/plain": [
              "array([[  4,  12,  21],\n",
              "       [ 12,  42,  73],\n",
              "       [ 21,  73, 131]])"
            ]
          },
          "metadata": {},
          "execution_count": 18
        }
      ]
    },
    {
      "cell_type": "code",
      "source": [
        "XtX_inv = np.linalg.inv(XtX)"
      ],
      "metadata": {
        "id": "P8eWyJj6kYL9"
      },
      "execution_count": null,
      "outputs": []
    },
    {
      "cell_type": "code",
      "source": [
        "Xty = np.dot(XT, y)\n",
        "print(Xty)"
      ],
      "metadata": {
        "colab": {
          "base_uri": "https://localhost:8080/"
        },
        "id": "6Pxre7yHl8oo",
        "outputId": "158e80bd-b05e-4c92-98e3-ba1af463a15f"
      },
      "execution_count": null,
      "outputs": [
        {
          "output_type": "stream",
          "name": "stdout",
          "text": [
            "[[ 20]\n",
            " [ 70]\n",
            " [124]]\n"
          ]
        }
      ]
    },
    {
      "cell_type": "code",
      "source": [
        "w = np.dot(XtX_inv, Xty)\n",
        "print(w)"
      ],
      "metadata": {
        "colab": {
          "base_uri": "https://localhost:8080/"
        },
        "id": "G49ddsCumEmy",
        "outputId": "da96d53d-b875-4708-a2dc-947e9ff1f543"
      },
      "execution_count": null,
      "outputs": [
        {
          "output_type": "stream",
          "name": "stdout",
          "text": [
            "[[-0.14285714]\n",
            " [ 0.71428571]\n",
            " [ 0.57142857]]\n"
          ]
        }
      ]
    }
  ]
}