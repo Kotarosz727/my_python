{
 "cells": [
  {
   "cell_type": "code",
   "execution_count": null,
   "id": "d45965aa",
   "metadata": {
    "_cell_guid": "b1076dfc-b9ad-4769-8c92-a6c4dae69d19",
    "_uuid": "8f2839f25d086af736a60e9eeb907d3b93b6e0e5",
    "papermill": {
     "duration": 0.021605,
     "end_time": "2021-12-21T11:22:15.473390",
     "exception": false,
     "start_time": "2021-12-21T11:22:15.451785",
     "status": "completed"
    },
    "tags": []
   },
   "outputs": [],
   "source": []
  },
  {
   "cell_type": "code",
   "execution_count": 1,
   "id": "65615e86",
   "metadata": {
    "execution": {
     "iopub.execute_input": "2021-12-21T11:22:15.521909Z",
     "iopub.status.busy": "2021-12-21T11:22:15.520020Z",
     "iopub.status.idle": "2021-12-21T11:22:15.709706Z",
     "shell.execute_reply": "2021-12-21T11:22:15.710259Z",
     "shell.execute_reply.started": "2021-12-21T11:16:32.538586Z"
    },
    "papermill": {
     "duration": 0.215223,
     "end_time": "2021-12-21T11:22:15.710638",
     "exception": false,
     "start_time": "2021-12-21T11:22:15.495415",
     "status": "completed"
    },
    "tags": []
   },
   "outputs": [
    {
     "data": {
      "text/html": [
       "<div>\n",
       "<style scoped>\n",
       "    .dataframe tbody tr th:only-of-type {\n",
       "        vertical-align: middle;\n",
       "    }\n",
       "\n",
       "    .dataframe tbody tr th {\n",
       "        vertical-align: top;\n",
       "    }\n",
       "\n",
       "    .dataframe thead th {\n",
       "        text-align: right;\n",
       "    }\n",
       "</style>\n",
       "<table border=\"1\" class=\"dataframe\">\n",
       "  <thead>\n",
       "    <tr style=\"text-align: right;\">\n",
       "      <th></th>\n",
       "      <th>Rooms</th>\n",
       "      <th>Price</th>\n",
       "      <th>Distance</th>\n",
       "      <th>Postcode</th>\n",
       "      <th>Bedroom2</th>\n",
       "      <th>Bathroom</th>\n",
       "      <th>Car</th>\n",
       "      <th>Landsize</th>\n",
       "      <th>BuildingArea</th>\n",
       "      <th>YearBuilt</th>\n",
       "      <th>Lattitude</th>\n",
       "      <th>Longtitude</th>\n",
       "      <th>Propertycount</th>\n",
       "    </tr>\n",
       "  </thead>\n",
       "  <tbody>\n",
       "    <tr>\n",
       "      <th>count</th>\n",
       "      <td>13580.000000</td>\n",
       "      <td>1.358000e+04</td>\n",
       "      <td>13580.000000</td>\n",
       "      <td>13580.000000</td>\n",
       "      <td>13580.000000</td>\n",
       "      <td>13580.000000</td>\n",
       "      <td>13518.000000</td>\n",
       "      <td>13580.000000</td>\n",
       "      <td>7130.000000</td>\n",
       "      <td>8205.000000</td>\n",
       "      <td>13580.000000</td>\n",
       "      <td>13580.000000</td>\n",
       "      <td>13580.000000</td>\n",
       "    </tr>\n",
       "    <tr>\n",
       "      <th>mean</th>\n",
       "      <td>2.937997</td>\n",
       "      <td>1.075684e+06</td>\n",
       "      <td>10.137776</td>\n",
       "      <td>3105.301915</td>\n",
       "      <td>2.914728</td>\n",
       "      <td>1.534242</td>\n",
       "      <td>1.610075</td>\n",
       "      <td>558.416127</td>\n",
       "      <td>151.967650</td>\n",
       "      <td>1964.684217</td>\n",
       "      <td>-37.809203</td>\n",
       "      <td>144.995216</td>\n",
       "      <td>7454.417378</td>\n",
       "    </tr>\n",
       "    <tr>\n",
       "      <th>std</th>\n",
       "      <td>0.955748</td>\n",
       "      <td>6.393107e+05</td>\n",
       "      <td>5.868725</td>\n",
       "      <td>90.676964</td>\n",
       "      <td>0.965921</td>\n",
       "      <td>0.691712</td>\n",
       "      <td>0.962634</td>\n",
       "      <td>3990.669241</td>\n",
       "      <td>541.014538</td>\n",
       "      <td>37.273762</td>\n",
       "      <td>0.079260</td>\n",
       "      <td>0.103916</td>\n",
       "      <td>4378.581772</td>\n",
       "    </tr>\n",
       "    <tr>\n",
       "      <th>min</th>\n",
       "      <td>1.000000</td>\n",
       "      <td>8.500000e+04</td>\n",
       "      <td>0.000000</td>\n",
       "      <td>3000.000000</td>\n",
       "      <td>0.000000</td>\n",
       "      <td>0.000000</td>\n",
       "      <td>0.000000</td>\n",
       "      <td>0.000000</td>\n",
       "      <td>0.000000</td>\n",
       "      <td>1196.000000</td>\n",
       "      <td>-38.182550</td>\n",
       "      <td>144.431810</td>\n",
       "      <td>249.000000</td>\n",
       "    </tr>\n",
       "    <tr>\n",
       "      <th>25%</th>\n",
       "      <td>2.000000</td>\n",
       "      <td>6.500000e+05</td>\n",
       "      <td>6.100000</td>\n",
       "      <td>3044.000000</td>\n",
       "      <td>2.000000</td>\n",
       "      <td>1.000000</td>\n",
       "      <td>1.000000</td>\n",
       "      <td>177.000000</td>\n",
       "      <td>93.000000</td>\n",
       "      <td>1940.000000</td>\n",
       "      <td>-37.856822</td>\n",
       "      <td>144.929600</td>\n",
       "      <td>4380.000000</td>\n",
       "    </tr>\n",
       "    <tr>\n",
       "      <th>50%</th>\n",
       "      <td>3.000000</td>\n",
       "      <td>9.030000e+05</td>\n",
       "      <td>9.200000</td>\n",
       "      <td>3084.000000</td>\n",
       "      <td>3.000000</td>\n",
       "      <td>1.000000</td>\n",
       "      <td>2.000000</td>\n",
       "      <td>440.000000</td>\n",
       "      <td>126.000000</td>\n",
       "      <td>1970.000000</td>\n",
       "      <td>-37.802355</td>\n",
       "      <td>145.000100</td>\n",
       "      <td>6555.000000</td>\n",
       "    </tr>\n",
       "    <tr>\n",
       "      <th>75%</th>\n",
       "      <td>3.000000</td>\n",
       "      <td>1.330000e+06</td>\n",
       "      <td>13.000000</td>\n",
       "      <td>3148.000000</td>\n",
       "      <td>3.000000</td>\n",
       "      <td>2.000000</td>\n",
       "      <td>2.000000</td>\n",
       "      <td>651.000000</td>\n",
       "      <td>174.000000</td>\n",
       "      <td>1999.000000</td>\n",
       "      <td>-37.756400</td>\n",
       "      <td>145.058305</td>\n",
       "      <td>10331.000000</td>\n",
       "    </tr>\n",
       "    <tr>\n",
       "      <th>max</th>\n",
       "      <td>10.000000</td>\n",
       "      <td>9.000000e+06</td>\n",
       "      <td>48.100000</td>\n",
       "      <td>3977.000000</td>\n",
       "      <td>20.000000</td>\n",
       "      <td>8.000000</td>\n",
       "      <td>10.000000</td>\n",
       "      <td>433014.000000</td>\n",
       "      <td>44515.000000</td>\n",
       "      <td>2018.000000</td>\n",
       "      <td>-37.408530</td>\n",
       "      <td>145.526350</td>\n",
       "      <td>21650.000000</td>\n",
       "    </tr>\n",
       "  </tbody>\n",
       "</table>\n",
       "</div>"
      ],
      "text/plain": [
       "              Rooms         Price      Distance      Postcode      Bedroom2  \\\n",
       "count  13580.000000  1.358000e+04  13580.000000  13580.000000  13580.000000   \n",
       "mean       2.937997  1.075684e+06     10.137776   3105.301915      2.914728   \n",
       "std        0.955748  6.393107e+05      5.868725     90.676964      0.965921   \n",
       "min        1.000000  8.500000e+04      0.000000   3000.000000      0.000000   \n",
       "25%        2.000000  6.500000e+05      6.100000   3044.000000      2.000000   \n",
       "50%        3.000000  9.030000e+05      9.200000   3084.000000      3.000000   \n",
       "75%        3.000000  1.330000e+06     13.000000   3148.000000      3.000000   \n",
       "max       10.000000  9.000000e+06     48.100000   3977.000000     20.000000   \n",
       "\n",
       "           Bathroom           Car       Landsize  BuildingArea    YearBuilt  \\\n",
       "count  13580.000000  13518.000000   13580.000000   7130.000000  8205.000000   \n",
       "mean       1.534242      1.610075     558.416127    151.967650  1964.684217   \n",
       "std        0.691712      0.962634    3990.669241    541.014538    37.273762   \n",
       "min        0.000000      0.000000       0.000000      0.000000  1196.000000   \n",
       "25%        1.000000      1.000000     177.000000     93.000000  1940.000000   \n",
       "50%        1.000000      2.000000     440.000000    126.000000  1970.000000   \n",
       "75%        2.000000      2.000000     651.000000    174.000000  1999.000000   \n",
       "max        8.000000     10.000000  433014.000000  44515.000000  2018.000000   \n",
       "\n",
       "          Lattitude    Longtitude  Propertycount  \n",
       "count  13580.000000  13580.000000   13580.000000  \n",
       "mean     -37.809203    144.995216    7454.417378  \n",
       "std        0.079260      0.103916    4378.581772  \n",
       "min      -38.182550    144.431810     249.000000  \n",
       "25%      -37.856822    144.929600    4380.000000  \n",
       "50%      -37.802355    145.000100    6555.000000  \n",
       "75%      -37.756400    145.058305   10331.000000  \n",
       "max      -37.408530    145.526350   21650.000000  "
      ]
     },
     "execution_count": 1,
     "metadata": {},
     "output_type": "execute_result"
    }
   ],
   "source": [
    "import numpy as np # linear algebra\n",
    "import pandas as pd # data processing, CSV file I/O (e.g. pd.read_csv)\n",
    "\n",
    "melbourne_file_path = '../input/melbourne-housing-snapshot/melb_data.csv'\n",
    "melbourne_data = pd.read_csv(melbourne_file_path) \n",
    "melbourne_data.describe()\n",
    "# melbourne_data.head()\n",
    "\n"
   ]
  },
  {
   "cell_type": "code",
   "execution_count": 2,
   "id": "a141bdf6",
   "metadata": {
    "execution": {
     "iopub.execute_input": "2021-12-21T11:22:15.756154Z",
     "iopub.status.busy": "2021-12-21T11:22:15.755425Z",
     "iopub.status.idle": "2021-12-21T11:22:15.790569Z",
     "shell.execute_reply": "2021-12-21T11:22:15.789863Z",
     "shell.execute_reply.started": "2021-12-21T11:16:32.702222Z"
    },
    "papermill": {
     "duration": 0.058548,
     "end_time": "2021-12-21T11:22:15.790752",
     "exception": false,
     "start_time": "2021-12-21T11:22:15.732204",
     "status": "completed"
    },
    "tags": []
   },
   "outputs": [
    {
     "data": {
      "text/html": [
       "<div>\n",
       "<style scoped>\n",
       "    .dataframe tbody tr th:only-of-type {\n",
       "        vertical-align: middle;\n",
       "    }\n",
       "\n",
       "    .dataframe tbody tr th {\n",
       "        vertical-align: top;\n",
       "    }\n",
       "\n",
       "    .dataframe thead th {\n",
       "        text-align: right;\n",
       "    }\n",
       "</style>\n",
       "<table border=\"1\" class=\"dataframe\">\n",
       "  <thead>\n",
       "    <tr style=\"text-align: right;\">\n",
       "      <th></th>\n",
       "      <th>Suburb</th>\n",
       "      <th>Address</th>\n",
       "      <th>Rooms</th>\n",
       "      <th>Type</th>\n",
       "      <th>Price</th>\n",
       "      <th>Method</th>\n",
       "      <th>SellerG</th>\n",
       "      <th>Date</th>\n",
       "      <th>Distance</th>\n",
       "      <th>Postcode</th>\n",
       "      <th>...</th>\n",
       "      <th>Bathroom</th>\n",
       "      <th>Car</th>\n",
       "      <th>Landsize</th>\n",
       "      <th>BuildingArea</th>\n",
       "      <th>YearBuilt</th>\n",
       "      <th>CouncilArea</th>\n",
       "      <th>Lattitude</th>\n",
       "      <th>Longtitude</th>\n",
       "      <th>Regionname</th>\n",
       "      <th>Propertycount</th>\n",
       "    </tr>\n",
       "  </thead>\n",
       "  <tbody>\n",
       "    <tr>\n",
       "      <th>0</th>\n",
       "      <td>Abbotsford</td>\n",
       "      <td>85 Turner St</td>\n",
       "      <td>2</td>\n",
       "      <td>h</td>\n",
       "      <td>1480000.0</td>\n",
       "      <td>S</td>\n",
       "      <td>Biggin</td>\n",
       "      <td>3/12/2016</td>\n",
       "      <td>2.5</td>\n",
       "      <td>3067.0</td>\n",
       "      <td>...</td>\n",
       "      <td>1.0</td>\n",
       "      <td>1.0</td>\n",
       "      <td>202.0</td>\n",
       "      <td>NaN</td>\n",
       "      <td>NaN</td>\n",
       "      <td>Yarra</td>\n",
       "      <td>-37.7996</td>\n",
       "      <td>144.9984</td>\n",
       "      <td>Northern Metropolitan</td>\n",
       "      <td>4019.0</td>\n",
       "    </tr>\n",
       "    <tr>\n",
       "      <th>1</th>\n",
       "      <td>Abbotsford</td>\n",
       "      <td>25 Bloomburg St</td>\n",
       "      <td>2</td>\n",
       "      <td>h</td>\n",
       "      <td>1035000.0</td>\n",
       "      <td>S</td>\n",
       "      <td>Biggin</td>\n",
       "      <td>4/02/2016</td>\n",
       "      <td>2.5</td>\n",
       "      <td>3067.0</td>\n",
       "      <td>...</td>\n",
       "      <td>1.0</td>\n",
       "      <td>0.0</td>\n",
       "      <td>156.0</td>\n",
       "      <td>79.0</td>\n",
       "      <td>1900.0</td>\n",
       "      <td>Yarra</td>\n",
       "      <td>-37.8079</td>\n",
       "      <td>144.9934</td>\n",
       "      <td>Northern Metropolitan</td>\n",
       "      <td>4019.0</td>\n",
       "    </tr>\n",
       "    <tr>\n",
       "      <th>2</th>\n",
       "      <td>Abbotsford</td>\n",
       "      <td>5 Charles St</td>\n",
       "      <td>3</td>\n",
       "      <td>h</td>\n",
       "      <td>1465000.0</td>\n",
       "      <td>SP</td>\n",
       "      <td>Biggin</td>\n",
       "      <td>4/03/2017</td>\n",
       "      <td>2.5</td>\n",
       "      <td>3067.0</td>\n",
       "      <td>...</td>\n",
       "      <td>2.0</td>\n",
       "      <td>0.0</td>\n",
       "      <td>134.0</td>\n",
       "      <td>150.0</td>\n",
       "      <td>1900.0</td>\n",
       "      <td>Yarra</td>\n",
       "      <td>-37.8093</td>\n",
       "      <td>144.9944</td>\n",
       "      <td>Northern Metropolitan</td>\n",
       "      <td>4019.0</td>\n",
       "    </tr>\n",
       "    <tr>\n",
       "      <th>3</th>\n",
       "      <td>Abbotsford</td>\n",
       "      <td>40 Federation La</td>\n",
       "      <td>3</td>\n",
       "      <td>h</td>\n",
       "      <td>850000.0</td>\n",
       "      <td>PI</td>\n",
       "      <td>Biggin</td>\n",
       "      <td>4/03/2017</td>\n",
       "      <td>2.5</td>\n",
       "      <td>3067.0</td>\n",
       "      <td>...</td>\n",
       "      <td>2.0</td>\n",
       "      <td>1.0</td>\n",
       "      <td>94.0</td>\n",
       "      <td>NaN</td>\n",
       "      <td>NaN</td>\n",
       "      <td>Yarra</td>\n",
       "      <td>-37.7969</td>\n",
       "      <td>144.9969</td>\n",
       "      <td>Northern Metropolitan</td>\n",
       "      <td>4019.0</td>\n",
       "    </tr>\n",
       "    <tr>\n",
       "      <th>4</th>\n",
       "      <td>Abbotsford</td>\n",
       "      <td>55a Park St</td>\n",
       "      <td>4</td>\n",
       "      <td>h</td>\n",
       "      <td>1600000.0</td>\n",
       "      <td>VB</td>\n",
       "      <td>Nelson</td>\n",
       "      <td>4/06/2016</td>\n",
       "      <td>2.5</td>\n",
       "      <td>3067.0</td>\n",
       "      <td>...</td>\n",
       "      <td>1.0</td>\n",
       "      <td>2.0</td>\n",
       "      <td>120.0</td>\n",
       "      <td>142.0</td>\n",
       "      <td>2014.0</td>\n",
       "      <td>Yarra</td>\n",
       "      <td>-37.8072</td>\n",
       "      <td>144.9941</td>\n",
       "      <td>Northern Metropolitan</td>\n",
       "      <td>4019.0</td>\n",
       "    </tr>\n",
       "  </tbody>\n",
       "</table>\n",
       "<p>5 rows × 21 columns</p>\n",
       "</div>"
      ],
      "text/plain": [
       "       Suburb           Address  Rooms Type      Price Method SellerG  \\\n",
       "0  Abbotsford      85 Turner St      2    h  1480000.0      S  Biggin   \n",
       "1  Abbotsford   25 Bloomburg St      2    h  1035000.0      S  Biggin   \n",
       "2  Abbotsford      5 Charles St      3    h  1465000.0     SP  Biggin   \n",
       "3  Abbotsford  40 Federation La      3    h   850000.0     PI  Biggin   \n",
       "4  Abbotsford       55a Park St      4    h  1600000.0     VB  Nelson   \n",
       "\n",
       "        Date  Distance  Postcode  ...  Bathroom  Car  Landsize  BuildingArea  \\\n",
       "0  3/12/2016       2.5    3067.0  ...       1.0  1.0     202.0           NaN   \n",
       "1  4/02/2016       2.5    3067.0  ...       1.0  0.0     156.0          79.0   \n",
       "2  4/03/2017       2.5    3067.0  ...       2.0  0.0     134.0         150.0   \n",
       "3  4/03/2017       2.5    3067.0  ...       2.0  1.0      94.0           NaN   \n",
       "4  4/06/2016       2.5    3067.0  ...       1.0  2.0     120.0         142.0   \n",
       "\n",
       "   YearBuilt  CouncilArea Lattitude  Longtitude             Regionname  \\\n",
       "0        NaN        Yarra  -37.7996    144.9984  Northern Metropolitan   \n",
       "1     1900.0        Yarra  -37.8079    144.9934  Northern Metropolitan   \n",
       "2     1900.0        Yarra  -37.8093    144.9944  Northern Metropolitan   \n",
       "3        NaN        Yarra  -37.7969    144.9969  Northern Metropolitan   \n",
       "4     2014.0        Yarra  -37.8072    144.9941  Northern Metropolitan   \n",
       "\n",
       "  Propertycount  \n",
       "0        4019.0  \n",
       "1        4019.0  \n",
       "2        4019.0  \n",
       "3        4019.0  \n",
       "4        4019.0  \n",
       "\n",
       "[5 rows x 21 columns]"
      ]
     },
     "execution_count": 2,
     "metadata": {},
     "output_type": "execute_result"
    }
   ],
   "source": [
    "melbourne_data.head()"
   ]
  },
  {
   "cell_type": "code",
   "execution_count": 3,
   "id": "fa4295eb",
   "metadata": {
    "execution": {
     "iopub.execute_input": "2021-12-21T11:22:15.838039Z",
     "iopub.status.busy": "2021-12-21T11:22:15.837275Z",
     "iopub.status.idle": "2021-12-21T11:22:15.842606Z",
     "shell.execute_reply": "2021-12-21T11:22:15.843105Z",
     "shell.execute_reply.started": "2021-12-21T11:16:32.738482Z"
    },
    "papermill": {
     "duration": 0.031803,
     "end_time": "2021-12-21T11:22:15.843318",
     "exception": false,
     "start_time": "2021-12-21T11:22:15.811515",
     "status": "completed"
    },
    "tags": []
   },
   "outputs": [
    {
     "data": {
      "text/plain": [
       "Index(['Suburb', 'Address', 'Rooms', 'Type', 'Price', 'Method', 'SellerG',\n",
       "       'Date', 'Distance', 'Postcode', 'Bedroom2', 'Bathroom', 'Car',\n",
       "       'Landsize', 'BuildingArea', 'YearBuilt', 'CouncilArea', 'Lattitude',\n",
       "       'Longtitude', 'Regionname', 'Propertycount'],\n",
       "      dtype='object')"
      ]
     },
     "execution_count": 3,
     "metadata": {},
     "output_type": "execute_result"
    }
   ],
   "source": [
    "melbourne_data.columns"
   ]
  },
  {
   "cell_type": "code",
   "execution_count": 4,
   "id": "50d7bcf6",
   "metadata": {
    "execution": {
     "iopub.execute_input": "2021-12-21T11:22:15.889705Z",
     "iopub.status.busy": "2021-12-21T11:22:15.888813Z",
     "iopub.status.idle": "2021-12-21T11:22:15.908319Z",
     "shell.execute_reply": "2021-12-21T11:22:15.909018Z",
     "shell.execute_reply.started": "2021-12-21T11:16:32.748621Z"
    },
    "papermill": {
     "duration": 0.045274,
     "end_time": "2021-12-21T11:22:15.909244",
     "exception": false,
     "start_time": "2021-12-21T11:22:15.863970",
     "status": "completed"
    },
    "tags": []
   },
   "outputs": [],
   "source": [
    "melbourne_data = melbourne_data.dropna(axis=0)"
   ]
  },
  {
   "cell_type": "code",
   "execution_count": 5,
   "id": "eb80b364",
   "metadata": {
    "execution": {
     "iopub.execute_input": "2021-12-21T11:22:15.956495Z",
     "iopub.status.busy": "2021-12-21T11:22:15.955750Z",
     "iopub.status.idle": "2021-12-21T11:22:15.959759Z",
     "shell.execute_reply": "2021-12-21T11:22:15.960343Z",
     "shell.execute_reply.started": "2021-12-21T11:16:32.779756Z"
    },
    "papermill": {
     "duration": 0.03064,
     "end_time": "2021-12-21T11:22:15.960577",
     "exception": false,
     "start_time": "2021-12-21T11:22:15.929937",
     "status": "completed"
    },
    "tags": []
   },
   "outputs": [],
   "source": [
    "y = melbourne_data.Price"
   ]
  },
  {
   "cell_type": "code",
   "execution_count": 6,
   "id": "a68c494f",
   "metadata": {
    "execution": {
     "iopub.execute_input": "2021-12-21T11:22:16.005220Z",
     "iopub.status.busy": "2021-12-21T11:22:16.004269Z",
     "iopub.status.idle": "2021-12-21T11:22:16.009058Z",
     "shell.execute_reply": "2021-12-21T11:22:16.009653Z",
     "shell.execute_reply.started": "2021-12-21T11:16:32.787182Z"
    },
    "papermill": {
     "duration": 0.028697,
     "end_time": "2021-12-21T11:22:16.009864",
     "exception": false,
     "start_time": "2021-12-21T11:22:15.981167",
     "status": "completed"
    },
    "tags": []
   },
   "outputs": [],
   "source": [
    "melbourne_features = ['Rooms', 'Bathroom', 'Landsize', 'Lattitude', 'Longtitude']\n",
    "X = melbourne_data[melbourne_features]"
   ]
  },
  {
   "cell_type": "code",
   "execution_count": 7,
   "id": "55fe6be0",
   "metadata": {
    "execution": {
     "iopub.execute_input": "2021-12-21T11:22:16.055950Z",
     "iopub.status.busy": "2021-12-21T11:22:16.055201Z",
     "iopub.status.idle": "2021-12-21T11:22:16.078936Z",
     "shell.execute_reply": "2021-12-21T11:22:16.079591Z",
     "shell.execute_reply.started": "2021-12-21T11:16:32.802380Z"
    },
    "papermill": {
     "duration": 0.047293,
     "end_time": "2021-12-21T11:22:16.079796",
     "exception": false,
     "start_time": "2021-12-21T11:22:16.032503",
     "status": "completed"
    },
    "tags": []
   },
   "outputs": [
    {
     "data": {
      "text/html": [
       "<div>\n",
       "<style scoped>\n",
       "    .dataframe tbody tr th:only-of-type {\n",
       "        vertical-align: middle;\n",
       "    }\n",
       "\n",
       "    .dataframe tbody tr th {\n",
       "        vertical-align: top;\n",
       "    }\n",
       "\n",
       "    .dataframe thead th {\n",
       "        text-align: right;\n",
       "    }\n",
       "</style>\n",
       "<table border=\"1\" class=\"dataframe\">\n",
       "  <thead>\n",
       "    <tr style=\"text-align: right;\">\n",
       "      <th></th>\n",
       "      <th>Rooms</th>\n",
       "      <th>Bathroom</th>\n",
       "      <th>Landsize</th>\n",
       "      <th>Lattitude</th>\n",
       "      <th>Longtitude</th>\n",
       "    </tr>\n",
       "  </thead>\n",
       "  <tbody>\n",
       "    <tr>\n",
       "      <th>count</th>\n",
       "      <td>6196.000000</td>\n",
       "      <td>6196.000000</td>\n",
       "      <td>6196.000000</td>\n",
       "      <td>6196.000000</td>\n",
       "      <td>6196.000000</td>\n",
       "    </tr>\n",
       "    <tr>\n",
       "      <th>mean</th>\n",
       "      <td>2.931407</td>\n",
       "      <td>1.576340</td>\n",
       "      <td>471.006940</td>\n",
       "      <td>-37.807904</td>\n",
       "      <td>144.990201</td>\n",
       "    </tr>\n",
       "    <tr>\n",
       "      <th>std</th>\n",
       "      <td>0.971079</td>\n",
       "      <td>0.711362</td>\n",
       "      <td>897.449881</td>\n",
       "      <td>0.075850</td>\n",
       "      <td>0.099165</td>\n",
       "    </tr>\n",
       "    <tr>\n",
       "      <th>min</th>\n",
       "      <td>1.000000</td>\n",
       "      <td>1.000000</td>\n",
       "      <td>0.000000</td>\n",
       "      <td>-38.164920</td>\n",
       "      <td>144.542370</td>\n",
       "    </tr>\n",
       "    <tr>\n",
       "      <th>25%</th>\n",
       "      <td>2.000000</td>\n",
       "      <td>1.000000</td>\n",
       "      <td>152.000000</td>\n",
       "      <td>-37.855438</td>\n",
       "      <td>144.926198</td>\n",
       "    </tr>\n",
       "    <tr>\n",
       "      <th>50%</th>\n",
       "      <td>3.000000</td>\n",
       "      <td>1.000000</td>\n",
       "      <td>373.000000</td>\n",
       "      <td>-37.802250</td>\n",
       "      <td>144.995800</td>\n",
       "    </tr>\n",
       "    <tr>\n",
       "      <th>75%</th>\n",
       "      <td>4.000000</td>\n",
       "      <td>2.000000</td>\n",
       "      <td>628.000000</td>\n",
       "      <td>-37.758200</td>\n",
       "      <td>145.052700</td>\n",
       "    </tr>\n",
       "    <tr>\n",
       "      <th>max</th>\n",
       "      <td>8.000000</td>\n",
       "      <td>8.000000</td>\n",
       "      <td>37000.000000</td>\n",
       "      <td>-37.457090</td>\n",
       "      <td>145.526350</td>\n",
       "    </tr>\n",
       "  </tbody>\n",
       "</table>\n",
       "</div>"
      ],
      "text/plain": [
       "             Rooms     Bathroom      Landsize    Lattitude   Longtitude\n",
       "count  6196.000000  6196.000000   6196.000000  6196.000000  6196.000000\n",
       "mean      2.931407     1.576340    471.006940   -37.807904   144.990201\n",
       "std       0.971079     0.711362    897.449881     0.075850     0.099165\n",
       "min       1.000000     1.000000      0.000000   -38.164920   144.542370\n",
       "25%       2.000000     1.000000    152.000000   -37.855438   144.926198\n",
       "50%       3.000000     1.000000    373.000000   -37.802250   144.995800\n",
       "75%       4.000000     2.000000    628.000000   -37.758200   145.052700\n",
       "max       8.000000     8.000000  37000.000000   -37.457090   145.526350"
      ]
     },
     "execution_count": 7,
     "metadata": {},
     "output_type": "execute_result"
    }
   ],
   "source": [
    "X.describe()"
   ]
  },
  {
   "cell_type": "code",
   "execution_count": 8,
   "id": "7796ecf5",
   "metadata": {
    "execution": {
     "iopub.execute_input": "2021-12-21T11:22:16.126864Z",
     "iopub.status.busy": "2021-12-21T11:22:16.126095Z",
     "iopub.status.idle": "2021-12-21T11:22:17.736165Z",
     "shell.execute_reply": "2021-12-21T11:22:17.735225Z",
     "shell.execute_reply.started": "2021-12-21T11:16:32.838320Z"
    },
    "papermill": {
     "duration": 1.634648,
     "end_time": "2021-12-21T11:22:17.736340",
     "exception": false,
     "start_time": "2021-12-21T11:22:16.101692",
     "status": "completed"
    },
    "tags": []
   },
   "outputs": [
    {
     "name": "stdout",
     "output_type": "stream",
     "text": [
      "Making predictions for the following 5 houses:\n",
      "   Rooms  Bathroom  Landsize  Lattitude  Longtitude\n",
      "1      2       1.0     156.0   -37.8079    144.9934\n",
      "2      3       2.0     134.0   -37.8093    144.9944\n",
      "4      4       1.0     120.0   -37.8072    144.9941\n",
      "6      3       2.0     245.0   -37.8024    144.9993\n",
      "7      2       1.0     256.0   -37.8060    144.9954\n",
      "The predictions are\n",
      "[1035000. 1465000. 1600000. 1876000. 1636000.]\n"
     ]
    }
   ],
   "source": [
    "from sklearn.tree import DecisionTreeRegressor\n",
    "\n",
    "melbourne_model = DecisionTreeRegressor(random_state=1)\n",
    "melbourne_model.fit(X, y)\n",
    "\n",
    "print(\"Making predictions for the following 5 houses:\")\n",
    "print(X.head())\n",
    "print(\"The predictions are\")\n",
    "print(melbourne_model.predict(X.head()))"
   ]
  },
  {
   "cell_type": "markdown",
   "id": "3a08369b",
   "metadata": {
    "papermill": {
     "duration": 0.020265,
     "end_time": "2021-12-21T11:22:17.777311",
     "exception": false,
     "start_time": "2021-12-21T11:22:17.757046",
     "status": "completed"
    },
    "tags": []
   },
   "source": [
    "**Model Validation**\n",
    "* Mean Absolute Error (also called MAE)\n",
    "* error = actual - predicted"
   ]
  },
  {
   "cell_type": "code",
   "execution_count": 9,
   "id": "faf1af5f",
   "metadata": {
    "execution": {
     "iopub.execute_input": "2021-12-21T11:22:17.822117Z",
     "iopub.status.busy": "2021-12-21T11:22:17.821439Z",
     "iopub.status.idle": "2021-12-21T11:22:17.825409Z",
     "shell.execute_reply": "2021-12-21T11:22:17.826034Z",
     "shell.execute_reply.started": "2021-12-21T11:16:32.887279Z"
    },
    "papermill": {
     "duration": 0.028261,
     "end_time": "2021-12-21T11:22:17.826210",
     "exception": false,
     "start_time": "2021-12-21T11:22:17.797949",
     "status": "completed"
    },
    "tags": []
   },
   "outputs": [],
   "source": [
    "from sklearn.metrics import mean_absolute_error"
   ]
  },
  {
   "cell_type": "code",
   "execution_count": 10,
   "id": "e3888121",
   "metadata": {
    "execution": {
     "iopub.execute_input": "2021-12-21T11:22:17.874139Z",
     "iopub.status.busy": "2021-12-21T11:22:17.873307Z",
     "iopub.status.idle": "2021-12-21T11:22:17.882255Z",
     "shell.execute_reply": "2021-12-21T11:22:17.882910Z",
     "shell.execute_reply.started": "2021-12-21T11:16:32.893491Z"
    },
    "papermill": {
     "duration": 0.034682,
     "end_time": "2021-12-21T11:22:17.883113",
     "exception": false,
     "start_time": "2021-12-21T11:22:17.848431",
     "status": "completed"
    },
    "tags": []
   },
   "outputs": [
    {
     "data": {
      "text/plain": [
       "1115.7467183128902"
      ]
     },
     "execution_count": 10,
     "metadata": {},
     "output_type": "execute_result"
    }
   ],
   "source": [
    "predicted_home_prices = melbourne_model.predict(X)\n",
    "\n",
    "mean_absolute_error(y, predicted_home_prices)"
   ]
  },
  {
   "cell_type": "markdown",
   "id": "990a9fbb",
   "metadata": {
    "papermill": {
     "duration": 0.021068,
     "end_time": "2021-12-21T11:22:17.925711",
     "exception": false,
     "start_time": "2021-12-21T11:22:17.904643",
     "status": "completed"
    },
    "tags": []
   },
   "source": [
    "**Devide test_data and validation_date**"
   ]
  },
  {
   "cell_type": "code",
   "execution_count": 11,
   "id": "f21bfa95",
   "metadata": {
    "execution": {
     "iopub.execute_input": "2021-12-21T11:22:17.974368Z",
     "iopub.status.busy": "2021-12-21T11:22:17.973686Z",
     "iopub.status.idle": "2021-12-21T11:22:17.977033Z",
     "shell.execute_reply": "2021-12-21T11:22:17.977591Z",
     "shell.execute_reply.started": "2021-12-21T11:16:32.913518Z"
    },
    "papermill": {
     "duration": 0.030568,
     "end_time": "2021-12-21T11:22:17.977796",
     "exception": false,
     "start_time": "2021-12-21T11:22:17.947228",
     "status": "completed"
    },
    "tags": []
   },
   "outputs": [],
   "source": [
    "from sklearn.model_selection import train_test_split"
   ]
  },
  {
   "cell_type": "code",
   "execution_count": 12,
   "id": "05586ebe",
   "metadata": {
    "execution": {
     "iopub.execute_input": "2021-12-21T11:22:18.029847Z",
     "iopub.status.busy": "2021-12-21T11:22:18.029090Z",
     "iopub.status.idle": "2021-12-21T11:22:18.036244Z",
     "shell.execute_reply": "2021-12-21T11:22:18.036826Z",
     "shell.execute_reply.started": "2021-12-21T11:16:32.921926Z"
    },
    "papermill": {
     "duration": 0.034857,
     "end_time": "2021-12-21T11:22:18.037050",
     "exception": false,
     "start_time": "2021-12-21T11:22:18.002193",
     "status": "completed"
    },
    "tags": []
   },
   "outputs": [],
   "source": [
    "# the random_state argument guarantees we get the same split every time we\n",
    "# run this script.\n",
    "train_X, val_X, train_y, val_y = train_test_split(X, y, random_state = 0)"
   ]
  },
  {
   "cell_type": "code",
   "execution_count": 13,
   "id": "2d107a1d",
   "metadata": {
    "execution": {
     "iopub.execute_input": "2021-12-21T11:22:18.087174Z",
     "iopub.status.busy": "2021-12-21T11:22:18.086256Z",
     "iopub.status.idle": "2021-12-21T11:22:18.117561Z",
     "shell.execute_reply": "2021-12-21T11:22:18.118161Z",
     "shell.execute_reply.started": "2021-12-21T11:16:32.937930Z"
    },
    "papermill": {
     "duration": 0.058565,
     "end_time": "2021-12-21T11:22:18.118377",
     "exception": false,
     "start_time": "2021-12-21T11:22:18.059812",
     "status": "completed"
    },
    "tags": []
   },
   "outputs": [
    {
     "data": {
      "text/plain": [
       "DecisionTreeRegressor()"
      ]
     },
     "execution_count": 13,
     "metadata": {},
     "output_type": "execute_result"
    }
   ],
   "source": [
    "# train\n",
    "# Define model\n",
    "melbourne_model = DecisionTreeRegressor()\n",
    "# Fit model\n",
    "melbourne_model.fit(train_X, train_y)"
   ]
  },
  {
   "cell_type": "code",
   "execution_count": 14,
   "id": "885ca4d7",
   "metadata": {
    "execution": {
     "iopub.execute_input": "2021-12-21T11:22:18.170755Z",
     "iopub.status.busy": "2021-12-21T11:22:18.169887Z",
     "iopub.status.idle": "2021-12-21T11:22:18.176720Z",
     "shell.execute_reply": "2021-12-21T11:22:18.177372Z",
     "shell.execute_reply.started": "2021-12-21T11:16:32.980758Z"
    },
    "papermill": {
     "duration": 0.033855,
     "end_time": "2021-12-21T11:22:18.177596",
     "exception": false,
     "start_time": "2021-12-21T11:22:18.143741",
     "status": "completed"
    },
    "tags": []
   },
   "outputs": [
    {
     "name": "stdout",
     "output_type": "stream",
     "text": [
      "272149.6367548956\n"
     ]
    }
   ],
   "source": [
    "# validation\n",
    "val_predictions = melbourne_model.predict(val_X)\n",
    "print(mean_absolute_error(val_y, val_predictions))"
   ]
  },
  {
   "cell_type": "markdown",
   "id": "8ed23667",
   "metadata": {
    "papermill": {
     "duration": 0.02372,
     "end_time": "2021-12-21T11:22:18.223565",
     "exception": false,
     "start_time": "2021-12-21T11:22:18.199845",
     "status": "completed"
    },
    "tags": []
   },
   "source": [
    "****Underfitting and Overfitting****\n",
    "* Overfitting: capturing spurious patterns that won't recur in the future, leading to less accurate predictions, or\n",
    "* Underfitting: failing to capture relevant patterns, again leading to less accurate predictions."
   ]
  },
  {
   "cell_type": "code",
   "execution_count": 15,
   "id": "36c3f4a8",
   "metadata": {
    "execution": {
     "iopub.execute_input": "2021-12-21T11:22:18.278202Z",
     "iopub.status.busy": "2021-12-21T11:22:18.271744Z",
     "iopub.status.idle": "2021-12-21T11:22:18.356137Z",
     "shell.execute_reply": "2021-12-21T11:22:18.355356Z",
     "shell.execute_reply.started": "2021-12-21T11:16:32.992322Z"
    },
    "papermill": {
     "duration": 0.110164,
     "end_time": "2021-12-21T11:22:18.356664",
     "exception": false,
     "start_time": "2021-12-21T11:22:18.246500",
     "status": "completed"
    },
    "tags": []
   },
   "outputs": [
    {
     "name": "stdout",
     "output_type": "stream",
     "text": [
      "Max leaf nodes: 5  \t\t Mean Absolute Error:  385696\n",
      "Max leaf nodes: 50  \t\t Mean Absolute Error:  279794\n",
      "Max leaf nodes: 500  \t\t Mean Absolute Error:  261718\n",
      "Max leaf nodes: 5000  \t\t Mean Absolute Error:  271996\n"
     ]
    }
   ],
   "source": [
    "def get_mae(max_leaf_nodes, train_X, val_X, train_y, val_y):\n",
    "    model = DecisionTreeRegressor(max_leaf_nodes=max_leaf_nodes, random_state=0)\n",
    "    model.fit(train_X, train_y)\n",
    "    preds_val = model.predict(val_X)\n",
    "    mae = mean_absolute_error(val_y, preds_val)\n",
    "    return(mae)\n",
    "\n",
    "# ノードの深さを[5, 50, 500, 5000]で調整して、それぞれのMAEを算出\n",
    "for max_leaf_nodes in [5, 50, 500, 5000]:\n",
    "    my_mae = get_mae(max_leaf_nodes, train_X, val_X, train_y, val_y)\n",
    "    print(\"Max leaf nodes: %d  \\t\\t Mean Absolute Error:  %d\" %(max_leaf_nodes, my_mae))"
   ]
  },
  {
   "cell_type": "markdown",
   "id": "1ae15fdf",
   "metadata": {
    "papermill": {
     "duration": 0.023178,
     "end_time": "2021-12-21T11:22:18.404751",
     "exception": false,
     "start_time": "2021-12-21T11:22:18.381573",
     "status": "completed"
    },
    "tags": []
   },
   "source": [
    "**random forest**"
   ]
  },
  {
   "cell_type": "markdown",
   "id": "71d656c9",
   "metadata": {
    "papermill": {
     "duration": 0.023115,
     "end_time": "2021-12-21T11:22:18.452660",
     "exception": false,
     "start_time": "2021-12-21T11:22:18.429545",
     "status": "completed"
    },
    "tags": []
   },
   "source": [
    "memo:\n",
    "A deep tree with lots of leaves will overfit because **each prediction is coming from historical data from only the few houses** at its leaf. But a shallow tree with few leaves will perform poorly because **it fails to capture as many distinctions in the raw data**\n",
    "\n",
    "one of solution is random forest"
   ]
  },
  {
   "cell_type": "code",
   "execution_count": 16,
   "id": "048b1087",
   "metadata": {
    "execution": {
     "iopub.execute_input": "2021-12-21T11:22:18.508448Z",
     "iopub.status.busy": "2021-12-21T11:22:18.507718Z",
     "iopub.status.idle": "2021-12-21T11:22:18.539568Z",
     "shell.execute_reply": "2021-12-21T11:22:18.538747Z",
     "shell.execute_reply.started": "2021-12-21T11:16:33.083069Z"
    },
    "papermill": {
     "duration": 0.061928,
     "end_time": "2021-12-21T11:22:18.539748",
     "exception": false,
     "start_time": "2021-12-21T11:22:18.477820",
     "status": "completed"
    },
    "tags": []
   },
   "outputs": [],
   "source": [
    "from sklearn.ensemble import RandomForestRegressor"
   ]
  },
  {
   "cell_type": "code",
   "execution_count": 17,
   "id": "1c9ac847",
   "metadata": {
    "execution": {
     "iopub.execute_input": "2021-12-21T11:22:18.622452Z",
     "iopub.status.busy": "2021-12-21T11:22:18.617000Z",
     "iopub.status.idle": "2021-12-21T11:22:20.208627Z",
     "shell.execute_reply": "2021-12-21T11:22:20.207773Z",
     "shell.execute_reply.started": "2021-12-21T11:16:33.089528Z"
    },
    "papermill": {
     "duration": 1.6458,
     "end_time": "2021-12-21T11:22:20.208832",
     "exception": false,
     "start_time": "2021-12-21T11:22:18.563032",
     "status": "completed"
    },
    "tags": []
   },
   "outputs": [
    {
     "name": "stdout",
     "output_type": "stream",
     "text": [
      "207190.6873773146\n"
     ]
    }
   ],
   "source": [
    "forest_model = RandomForestRegressor(random_state=1)\n",
    "forest_model.fit(train_X, train_y)\n",
    "melb_preds = forest_model.predict(val_X)\n",
    "print(mean_absolute_error(val_y, melb_preds))"
   ]
  },
  {
   "cell_type": "markdown",
   "id": "2e646043",
   "metadata": {
    "papermill": {
     "duration": 0.022204,
     "end_time": "2021-12-21T11:22:20.253942",
     "exception": false,
     "start_time": "2021-12-21T11:22:20.231738",
     "status": "completed"
    },
    "tags": []
   },
   "source": []
  }
 ],
 "metadata": {
  "kernelspec": {
   "display_name": "Python 3",
   "language": "python",
   "name": "python3"
  },
  "language_info": {
   "codemirror_mode": {
    "name": "ipython",
    "version": 3
   },
   "file_extension": ".py",
   "mimetype": "text/x-python",
   "name": "python",
   "nbconvert_exporter": "python",
   "pygments_lexer": "ipython3",
   "version": "3.7.12"
  },
  "papermill": {
   "default_parameters": {},
   "duration": 19.357911,
   "end_time": "2021-12-21T11:22:21.190557",
   "environment_variables": {},
   "exception": null,
   "input_path": "__notebook__.ipynb",
   "output_path": "__notebook__.ipynb",
   "parameters": {},
   "start_time": "2021-12-21T11:22:01.832646",
   "version": "2.3.3"
  }
 },
 "nbformat": 4,
 "nbformat_minor": 5
}
